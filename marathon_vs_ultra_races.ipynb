{
 "cells": [
  {
   "cell_type": "markdown",
   "metadata": {},
   "source": [
    "# Experimental Design Report\n",
    "## Background \n",
    "How big is the performance gap between men and women in endurance running events? What happens to that gap as the event distance goes up, and should women be directly competing against men in longer events rather than in their own category? To try and answer these questions, I’ll be looking at datasets from two events. The Boston Marathon (26.2 miles) and the Ultra-Trail du Mont-Blanc (UTMB, ~105 miles).\n",
    "\n",
    "Original source for Boston marathon data:\n",
    "https://www.kaggle.com/rojour/boston-results   \n",
    "Original source for UTBM data: https://www.kaggle.com/ceruleansea/ultratrail-du-montblanc-20032017"
   ]
  },
  {
   "cell_type": "code",
   "execution_count": 1,
   "metadata": {},
   "outputs": [],
   "source": [
    "# Set up envirionment \n",
    "import pandas as pd\n",
    "import numpy as np\n",
    "import matplotlib.pyplot as plt\n",
    "import seaborn as sns\n",
    "import scipy.stats as stats\n",
    "%matplotlib inline"
   ]
  },
  {
   "cell_type": "markdown",
   "metadata": {},
   "source": [
    "Each year of results is stored in a separate file so we will need to combine them into a single DataFrame for easier analysis. There links above contain 3 years of results from the boston marathon and 15 years of results for the UTMB. "
   ]
  },
  {
   "cell_type": "code",
   "execution_count": 2,
   "metadata": {},
   "outputs": [],
   "source": [
    "# Function to loop through all the years and add the results to a single data frame\n",
    "\n",
    "def combine_data(years, file_path):\n",
    "    df_ouput = pd.DataFrame()\n",
    "    for year in years:\n",
    "        if any(df_ouput) == False:\n",
    "            df_ouput = pd.read_csv(file_path + str(year) + '.csv')\n",
    "            df_ouput['year'] = year\n",
    "        else:\n",
    "            df = pd.read_csv(file_path + str(year) + '.csv')\n",
    "            df['year'] = year\n",
    "            df_ouput = df_ouput.append(df)\n",
    "    return df_ouput\n",
    "\n"
   ]
  },
  {
   "cell_type": "code",
   "execution_count": 3,
   "metadata": {},
   "outputs": [],
   "source": [
    "ba_years = [2017, 2016, 2015]\n",
    "ba_file_path = 'boston_data/marathon_results_'\n",
    "ba_df = combine_data(ba_years, ba_file_path)\n",
    "\n",
    "utmb_years = [2017, 2016, 2015, 2014, 2013, 2011]\n",
    "utmb_file_path = 'utmb_data/utmb_'\n",
    "utmb_df = combine_data(utmb_years, utmb_file_path)"
   ]
  },
  {
   "cell_type": "code",
   "execution_count": 4,
   "metadata": {},
   "outputs": [
    {
     "data": {
      "text/html": [
       "<div>\n",
       "<style scoped>\n",
       "    .dataframe tbody tr th:only-of-type {\n",
       "        vertical-align: middle;\n",
       "    }\n",
       "\n",
       "    .dataframe tbody tr th {\n",
       "        vertical-align: top;\n",
       "    }\n",
       "\n",
       "    .dataframe thead th {\n",
       "        text-align: right;\n",
       "    }\n",
       "</style>\n",
       "<table border=\"1\" class=\"dataframe\">\n",
       "  <thead>\n",
       "    <tr style=\"text-align: right;\">\n",
       "      <th></th>\n",
       "      <th>Unnamed: 0</th>\n",
       "      <th>Bib</th>\n",
       "      <th>Name</th>\n",
       "      <th>Age</th>\n",
       "      <th>M/F</th>\n",
       "      <th>City</th>\n",
       "      <th>State</th>\n",
       "      <th>Country</th>\n",
       "      <th>Citizen</th>\n",
       "      <th>Unnamed: 9</th>\n",
       "      <th>...</th>\n",
       "      <th>35K</th>\n",
       "      <th>40K</th>\n",
       "      <th>Pace</th>\n",
       "      <th>Proj Time</th>\n",
       "      <th>Official Time</th>\n",
       "      <th>Overall</th>\n",
       "      <th>Gender</th>\n",
       "      <th>Division</th>\n",
       "      <th>year</th>\n",
       "      <th>Unnamed: 8</th>\n",
       "    </tr>\n",
       "  </thead>\n",
       "  <tbody>\n",
       "    <tr>\n",
       "      <th>0</th>\n",
       "      <td>0.0</td>\n",
       "      <td>11</td>\n",
       "      <td>Kirui, Geoffrey</td>\n",
       "      <td>24</td>\n",
       "      <td>M</td>\n",
       "      <td>Keringet</td>\n",
       "      <td>NaN</td>\n",
       "      <td>KEN</td>\n",
       "      <td>NaN</td>\n",
       "      <td>NaN</td>\n",
       "      <td>...</td>\n",
       "      <td>1:48:19</td>\n",
       "      <td>2:02:53</td>\n",
       "      <td>0:04:57</td>\n",
       "      <td>-</td>\n",
       "      <td>2:09:37</td>\n",
       "      <td>1</td>\n",
       "      <td>1</td>\n",
       "      <td>1</td>\n",
       "      <td>2017</td>\n",
       "      <td>NaN</td>\n",
       "    </tr>\n",
       "    <tr>\n",
       "      <th>1</th>\n",
       "      <td>1.0</td>\n",
       "      <td>17</td>\n",
       "      <td>Rupp, Galen</td>\n",
       "      <td>30</td>\n",
       "      <td>M</td>\n",
       "      <td>Portland</td>\n",
       "      <td>OR</td>\n",
       "      <td>USA</td>\n",
       "      <td>NaN</td>\n",
       "      <td>NaN</td>\n",
       "      <td>...</td>\n",
       "      <td>1:48:19</td>\n",
       "      <td>2:03:14</td>\n",
       "      <td>0:04:58</td>\n",
       "      <td>-</td>\n",
       "      <td>2:09:58</td>\n",
       "      <td>2</td>\n",
       "      <td>2</td>\n",
       "      <td>2</td>\n",
       "      <td>2017</td>\n",
       "      <td>NaN</td>\n",
       "    </tr>\n",
       "    <tr>\n",
       "      <th>2</th>\n",
       "      <td>2.0</td>\n",
       "      <td>23</td>\n",
       "      <td>Osako, Suguru</td>\n",
       "      <td>25</td>\n",
       "      <td>M</td>\n",
       "      <td>Machida-City</td>\n",
       "      <td>NaN</td>\n",
       "      <td>JPN</td>\n",
       "      <td>NaN</td>\n",
       "      <td>NaN</td>\n",
       "      <td>...</td>\n",
       "      <td>1:48:31</td>\n",
       "      <td>2:03:38</td>\n",
       "      <td>0:04:59</td>\n",
       "      <td>-</td>\n",
       "      <td>2:10:28</td>\n",
       "      <td>3</td>\n",
       "      <td>3</td>\n",
       "      <td>3</td>\n",
       "      <td>2017</td>\n",
       "      <td>NaN</td>\n",
       "    </tr>\n",
       "    <tr>\n",
       "      <th>3</th>\n",
       "      <td>3.0</td>\n",
       "      <td>21</td>\n",
       "      <td>Biwott, Shadrack</td>\n",
       "      <td>32</td>\n",
       "      <td>M</td>\n",
       "      <td>Mammoth Lakes</td>\n",
       "      <td>CA</td>\n",
       "      <td>USA</td>\n",
       "      <td>NaN</td>\n",
       "      <td>NaN</td>\n",
       "      <td>...</td>\n",
       "      <td>1:48:58</td>\n",
       "      <td>2:04:35</td>\n",
       "      <td>0:05:03</td>\n",
       "      <td>-</td>\n",
       "      <td>2:12:08</td>\n",
       "      <td>4</td>\n",
       "      <td>4</td>\n",
       "      <td>4</td>\n",
       "      <td>2017</td>\n",
       "      <td>NaN</td>\n",
       "    </tr>\n",
       "    <tr>\n",
       "      <th>4</th>\n",
       "      <td>4.0</td>\n",
       "      <td>9</td>\n",
       "      <td>Chebet, Wilson</td>\n",
       "      <td>31</td>\n",
       "      <td>M</td>\n",
       "      <td>Marakwet</td>\n",
       "      <td>NaN</td>\n",
       "      <td>KEN</td>\n",
       "      <td>NaN</td>\n",
       "      <td>NaN</td>\n",
       "      <td>...</td>\n",
       "      <td>1:48:41</td>\n",
       "      <td>2:05:00</td>\n",
       "      <td>0:05:04</td>\n",
       "      <td>-</td>\n",
       "      <td>2:12:35</td>\n",
       "      <td>5</td>\n",
       "      <td>5</td>\n",
       "      <td>5</td>\n",
       "      <td>2017</td>\n",
       "      <td>NaN</td>\n",
       "    </tr>\n",
       "  </tbody>\n",
       "</table>\n",
       "<p>5 rows × 27 columns</p>\n",
       "</div>"
      ],
      "text/plain": [
       "   Unnamed: 0 Bib              Name  Age M/F           City State Country  \\\n",
       "0         0.0  11   Kirui, Geoffrey   24   M       Keringet   NaN     KEN   \n",
       "1         1.0  17       Rupp, Galen   30   M       Portland    OR     USA   \n",
       "2         2.0  23     Osako, Suguru   25   M   Machida-City   NaN     JPN   \n",
       "3         3.0  21  Biwott, Shadrack   32   M  Mammoth Lakes    CA     USA   \n",
       "4         4.0   9    Chebet, Wilson   31   M       Marakwet   NaN     KEN   \n",
       "\n",
       "  Citizen Unnamed: 9  ...      35K      40K     Pace Proj Time Official Time  \\\n",
       "0     NaN        NaN  ...  1:48:19  2:02:53  0:04:57         -       2:09:37   \n",
       "1     NaN        NaN  ...  1:48:19  2:03:14  0:04:58         -       2:09:58   \n",
       "2     NaN        NaN  ...  1:48:31  2:03:38  0:04:59         -       2:10:28   \n",
       "3     NaN        NaN  ...  1:48:58  2:04:35  0:05:03         -       2:12:08   \n",
       "4     NaN        NaN  ...  1:48:41  2:05:00  0:05:04         -       2:12:35   \n",
       "\n",
       "  Overall Gender Division  year Unnamed: 8  \n",
       "0       1      1        1  2017        NaN  \n",
       "1       2      2        2  2017        NaN  \n",
       "2       3      3        3  2017        NaN  \n",
       "3       4      4        4  2017        NaN  \n",
       "4       5      5        5  2017        NaN  \n",
       "\n",
       "[5 rows x 27 columns]"
      ]
     },
     "execution_count": 4,
     "metadata": {},
     "output_type": "execute_result"
    }
   ],
   "source": [
    "ba_df.head()"
   ]
  },
  {
   "cell_type": "code",
   "execution_count": 5,
   "metadata": {},
   "outputs": [
    {
     "data": {
      "text/html": [
       "<div>\n",
       "<style scoped>\n",
       "    .dataframe tbody tr th:only-of-type {\n",
       "        vertical-align: middle;\n",
       "    }\n",
       "\n",
       "    .dataframe tbody tr th {\n",
       "        vertical-align: top;\n",
       "    }\n",
       "\n",
       "    .dataframe thead th {\n",
       "        text-align: right;\n",
       "    }\n",
       "</style>\n",
       "<table border=\"1\" class=\"dataframe\">\n",
       "  <thead>\n",
       "    <tr style=\"text-align: right;\">\n",
       "      <th></th>\n",
       "      <th>Unnamed: 0</th>\n",
       "      <th>bib</th>\n",
       "      <th>name</th>\n",
       "      <th>team</th>\n",
       "      <th>category</th>\n",
       "      <th>rank</th>\n",
       "      <th>nationality</th>\n",
       "      <th>time</th>\n",
       "      <th>timediff</th>\n",
       "      <th>Delevret</th>\n",
       "      <th>...</th>\n",
       "      <th>Giète</th>\n",
       "      <th>Bovine</th>\n",
       "      <th>Arrivé</th>\n",
       "      <th>Delevre</th>\n",
       "      <th>st Ger</th>\n",
       "      <th>M Favre</th>\n",
       "      <th>Ferret</th>\n",
       "      <th>Martign</th>\n",
       "      <th>Argent</th>\n",
       "      <th>Cham</th>\n",
       "    </tr>\n",
       "  </thead>\n",
       "  <tbody>\n",
       "    <tr>\n",
       "      <th>0</th>\n",
       "      <td>0</td>\n",
       "      <td>4</td>\n",
       "      <td>D'HAENE François</td>\n",
       "      <td>Salomon</td>\n",
       "      <td>SE H</td>\n",
       "      <td>1</td>\n",
       "      <td>FR</td>\n",
       "      <td>19:01:54</td>\n",
       "      <td>00:00:00</td>\n",
       "      <td>01:11:50</td>\n",
       "      <td>...</td>\n",
       "      <td>NaN</td>\n",
       "      <td>NaN</td>\n",
       "      <td>NaN</td>\n",
       "      <td>NaN</td>\n",
       "      <td>NaN</td>\n",
       "      <td>NaN</td>\n",
       "      <td>NaN</td>\n",
       "      <td>NaN</td>\n",
       "      <td>NaN</td>\n",
       "      <td>NaN</td>\n",
       "    </tr>\n",
       "    <tr>\n",
       "      <th>1</th>\n",
       "      <td>1</td>\n",
       "      <td>2</td>\n",
       "      <td>JORNET BURGADA Kilian</td>\n",
       "      <td>Salomon</td>\n",
       "      <td>SE H</td>\n",
       "      <td>2</td>\n",
       "      <td>ES</td>\n",
       "      <td>19:16:59</td>\n",
       "      <td>00:15:05</td>\n",
       "      <td>01:10:00</td>\n",
       "      <td>...</td>\n",
       "      <td>NaN</td>\n",
       "      <td>NaN</td>\n",
       "      <td>NaN</td>\n",
       "      <td>NaN</td>\n",
       "      <td>NaN</td>\n",
       "      <td>NaN</td>\n",
       "      <td>NaN</td>\n",
       "      <td>NaN</td>\n",
       "      <td>NaN</td>\n",
       "      <td>NaN</td>\n",
       "    </tr>\n",
       "    <tr>\n",
       "      <th>2</th>\n",
       "      <td>2</td>\n",
       "      <td>14</td>\n",
       "      <td>TOLLEFSON Tim</td>\n",
       "      <td>Hoka</td>\n",
       "      <td>SE H</td>\n",
       "      <td>3</td>\n",
       "      <td>US</td>\n",
       "      <td>19:53:00</td>\n",
       "      <td>00:51:06</td>\n",
       "      <td>01:15:24</td>\n",
       "      <td>...</td>\n",
       "      <td>NaN</td>\n",
       "      <td>NaN</td>\n",
       "      <td>NaN</td>\n",
       "      <td>NaN</td>\n",
       "      <td>NaN</td>\n",
       "      <td>NaN</td>\n",
       "      <td>NaN</td>\n",
       "      <td>NaN</td>\n",
       "      <td>NaN</td>\n",
       "      <td>NaN</td>\n",
       "    </tr>\n",
       "    <tr>\n",
       "      <th>3</th>\n",
       "      <td>3</td>\n",
       "      <td>7</td>\n",
       "      <td>THEVENARD Xavier</td>\n",
       "      <td>Asics</td>\n",
       "      <td>SE H</td>\n",
       "      <td>4</td>\n",
       "      <td>FR</td>\n",
       "      <td>20:03:39</td>\n",
       "      <td>01:01:45</td>\n",
       "      <td>01:11:51</td>\n",
       "      <td>...</td>\n",
       "      <td>NaN</td>\n",
       "      <td>NaN</td>\n",
       "      <td>NaN</td>\n",
       "      <td>NaN</td>\n",
       "      <td>NaN</td>\n",
       "      <td>NaN</td>\n",
       "      <td>NaN</td>\n",
       "      <td>NaN</td>\n",
       "      <td>NaN</td>\n",
       "      <td>NaN</td>\n",
       "    </tr>\n",
       "    <tr>\n",
       "      <th>4</th>\n",
       "      <td>4</td>\n",
       "      <td>1</td>\n",
       "      <td>WALMSLEY Jim</td>\n",
       "      <td>Hoka</td>\n",
       "      <td>SE H</td>\n",
       "      <td>5</td>\n",
       "      <td>US</td>\n",
       "      <td>20:11:38</td>\n",
       "      <td>01:09:44</td>\n",
       "      <td>01:09:59</td>\n",
       "      <td>...</td>\n",
       "      <td>NaN</td>\n",
       "      <td>NaN</td>\n",
       "      <td>NaN</td>\n",
       "      <td>NaN</td>\n",
       "      <td>NaN</td>\n",
       "      <td>NaN</td>\n",
       "      <td>NaN</td>\n",
       "      <td>NaN</td>\n",
       "      <td>NaN</td>\n",
       "      <td>NaN</td>\n",
       "    </tr>\n",
       "  </tbody>\n",
       "</table>\n",
       "<p>5 rows × 69 columns</p>\n",
       "</div>"
      ],
      "text/plain": [
       "   Unnamed: 0  bib                   name     team category  rank nationality  \\\n",
       "0           0    4       D'HAENE François  Salomon     SE H     1          FR   \n",
       "1           1    2  JORNET BURGADA Kilian  Salomon     SE H     2          ES   \n",
       "2           2   14          TOLLEFSON Tim     Hoka     SE H     3          US   \n",
       "3           3    7       THEVENARD Xavier    Asics     SE H     4          FR   \n",
       "4           4    1           WALMSLEY Jim     Hoka     SE H     5          US   \n",
       "\n",
       "       time  timediff  Delevret  ... Giète Bovine Arrivé Delevre st Ger  \\\n",
       "0  19:01:54  00:00:00  01:11:50  ...   NaN    NaN    NaN     NaN    NaN   \n",
       "1  19:16:59  00:15:05  01:10:00  ...   NaN    NaN    NaN     NaN    NaN   \n",
       "2  19:53:00  00:51:06  01:15:24  ...   NaN    NaN    NaN     NaN    NaN   \n",
       "3  20:03:39  01:01:45  01:11:51  ...   NaN    NaN    NaN     NaN    NaN   \n",
       "4  20:11:38  01:09:44  01:09:59  ...   NaN    NaN    NaN     NaN    NaN   \n",
       "\n",
       "  M Favre Ferret Martign Argent Cham  \n",
       "0     NaN    NaN     NaN    NaN  NaN  \n",
       "1     NaN    NaN     NaN    NaN  NaN  \n",
       "2     NaN    NaN     NaN    NaN  NaN  \n",
       "3     NaN    NaN     NaN    NaN  NaN  \n",
       "4     NaN    NaN     NaN    NaN  NaN  \n",
       "\n",
       "[5 rows x 69 columns]"
      ]
     },
     "execution_count": 5,
     "metadata": {},
     "output_type": "execute_result"
    }
   ],
   "source": [
    "utmb_df.head()"
   ]
  },
  {
   "cell_type": "code",
   "execution_count": 6,
   "metadata": {},
   "outputs": [
    {
     "name": "stdout",
     "output_type": "stream",
     "text": [
      "Total male Boston marathon participation: 0.5459956302267761\n",
      "Total female Boston marathon: 0.45400436977322384\n",
      "Total male UTMB participation: 0.9109070188375679\n",
      "Total female UTMB participation: 0.08909298116243212\n"
     ]
    }
   ],
   "source": [
    "ba_men_count = len(ba_df.loc[ba_df['M/F'] == 'M'])\n",
    "ba_women_count = len(ba_df.loc[ba_df['M/F'] == 'F'])\n",
    "ba_total_count = ba_men_count + ba_women_count\n",
    "\n",
    "print(f\"Total male Boston marathon participation: {ba_men_count/ba_total_count}\")\n",
    "print(f\"Total female Boston marathon: {ba_women_count/ba_total_count}\")\n",
    "\n",
    "utmb_men_count = len(utmb_df.loc[utmb_df.category.str.contains('H')])\n",
    "utmb_women_count = len(utmb_df.loc[utmb_df.category.str.contains('F')])\n",
    "utmb_total_count = utmb_men_count + utmb_women_count\n",
    "\n",
    "print(f\"Total male UTMB participation: {utmb_men_count/utmb_total_count}\")\n",
    "print(f\"Total female UTMB participation: {utmb_women_count/utmb_total_count}\")"
   ]
  },
  {
   "cell_type": "markdown",
   "metadata": {},
   "source": [
    "Based on the above analysis, male vs female participation for the marathon distance is fairly balanced at 55% to 45% but the UTMB shows much lower participation with women making up less than 9%. "
   ]
  },
  {
   "cell_type": "code",
   "execution_count": 7,
   "metadata": {},
   "outputs": [
    {
     "name": "stdout",
     "output_type": "stream",
     "text": [
      "<class 'str'>\n"
     ]
    },
    {
     "data": {
      "text/plain": [
       "0    19:01:54\n",
       "1    19:16:59\n",
       "2    19:53:00\n",
       "3    20:03:39\n",
       "4    20:11:38\n",
       "Name: time, dtype: object"
      ]
     },
     "execution_count": 7,
     "metadata": {},
     "output_type": "execute_result"
    }
   ],
   "source": [
    "# Inspect the format of the time data\n",
    "utmb_time = utmb_df.loc[utmb_df.time != ' '].time\n",
    "utmb_time.head()\n",
    "print(type(utmb_time.values[0]))\n",
    "utmb_time.head()"
   ]
  },
  {
   "cell_type": "markdown",
   "metadata": {},
   "source": [
    "The datasets contain total times, stored in the Official Time field for the Boston Marathon dataset and in the time field for the UTMB dataset. Times are stored as strings in HH:MM:SS format, so they will need to be converted to a numeric format for analysis."
   ]
  },
  {
   "cell_type": "code",
   "execution_count": 8,
   "metadata": {},
   "outputs": [
    {
     "data": {
      "text/plain": [
       "0       19.031667\n",
       "1       19.283056\n",
       "2       19.883333\n",
       "3       20.060833\n",
       "4       20.193889\n",
       "          ...    \n",
       "1128    45.553889\n",
       "1129    45.553889\n",
       "1130    45.689722\n",
       "1131    45.736667\n",
       "1132    45.760556\n",
       "Name: time, Length: 9187, dtype: float64"
      ]
     },
     "execution_count": 8,
     "metadata": {},
     "output_type": "execute_result"
    }
   ],
   "source": [
    "# test converting time string to a value in hours\n",
    "timedelta = pd.to_timedelta(utmb_time)\n",
    "time_hours = timedelta/pd.Timedelta('1 hour')\n",
    "time_hours"
   ]
  },
  {
   "cell_type": "code",
   "execution_count": 9,
   "metadata": {},
   "outputs": [],
   "source": [
    "# Create a function to convert the time in strign format to hours\n",
    "def str_to_hours(data):\n",
    "    timedelta = pd.to_timedelta(data)\n",
    "    time_hours = timedelta/pd.Timedelta('1 hour')\n",
    "    return time_hours"
   ]
  },
  {
   "cell_type": "code",
   "execution_count": 10,
   "metadata": {},
   "outputs": [],
   "source": [
    "# Add column for time in hours\n",
    "utmb_df['time_hours'] = str_to_hours(utmb_df['time'])\n",
    "\n",
    "ba_df['time_hours'] = str_to_hours(ba_df['Official Time'])"
   ]
  },
  {
   "cell_type": "code",
   "execution_count": 11,
   "metadata": {},
   "outputs": [
    {
     "data": {
      "text/html": [
       "<div>\n",
       "<style scoped>\n",
       "    .dataframe tbody tr th:only-of-type {\n",
       "        vertical-align: middle;\n",
       "    }\n",
       "\n",
       "    .dataframe tbody tr th {\n",
       "        vertical-align: top;\n",
       "    }\n",
       "\n",
       "    .dataframe thead th {\n",
       "        text-align: right;\n",
       "    }\n",
       "</style>\n",
       "<table border=\"1\" class=\"dataframe\">\n",
       "  <thead>\n",
       "    <tr style=\"text-align: right;\">\n",
       "      <th></th>\n",
       "      <th>Unnamed: 0</th>\n",
       "      <th>bib</th>\n",
       "      <th>name</th>\n",
       "      <th>team</th>\n",
       "      <th>category</th>\n",
       "      <th>rank</th>\n",
       "      <th>nationality</th>\n",
       "      <th>time</th>\n",
       "      <th>timediff</th>\n",
       "      <th>Delevret</th>\n",
       "      <th>...</th>\n",
       "      <th>Bovine</th>\n",
       "      <th>Arrivé</th>\n",
       "      <th>Delevre</th>\n",
       "      <th>st Ger</th>\n",
       "      <th>M Favre</th>\n",
       "      <th>Ferret</th>\n",
       "      <th>Martign</th>\n",
       "      <th>Argent</th>\n",
       "      <th>Cham</th>\n",
       "      <th>time_hours</th>\n",
       "    </tr>\n",
       "  </thead>\n",
       "  <tbody>\n",
       "    <tr>\n",
       "      <th>0</th>\n",
       "      <td>0</td>\n",
       "      <td>4</td>\n",
       "      <td>D'HAENE François</td>\n",
       "      <td>Salomon</td>\n",
       "      <td>SE H</td>\n",
       "      <td>1</td>\n",
       "      <td>FR</td>\n",
       "      <td>19:01:54</td>\n",
       "      <td>00:00:00</td>\n",
       "      <td>01:11:50</td>\n",
       "      <td>...</td>\n",
       "      <td>NaN</td>\n",
       "      <td>NaN</td>\n",
       "      <td>NaN</td>\n",
       "      <td>NaN</td>\n",
       "      <td>NaN</td>\n",
       "      <td>NaN</td>\n",
       "      <td>NaN</td>\n",
       "      <td>NaN</td>\n",
       "      <td>NaN</td>\n",
       "      <td>19.031667</td>\n",
       "    </tr>\n",
       "    <tr>\n",
       "      <th>1</th>\n",
       "      <td>1</td>\n",
       "      <td>2</td>\n",
       "      <td>JORNET BURGADA Kilian</td>\n",
       "      <td>Salomon</td>\n",
       "      <td>SE H</td>\n",
       "      <td>2</td>\n",
       "      <td>ES</td>\n",
       "      <td>19:16:59</td>\n",
       "      <td>00:15:05</td>\n",
       "      <td>01:10:00</td>\n",
       "      <td>...</td>\n",
       "      <td>NaN</td>\n",
       "      <td>NaN</td>\n",
       "      <td>NaN</td>\n",
       "      <td>NaN</td>\n",
       "      <td>NaN</td>\n",
       "      <td>NaN</td>\n",
       "      <td>NaN</td>\n",
       "      <td>NaN</td>\n",
       "      <td>NaN</td>\n",
       "      <td>19.283056</td>\n",
       "    </tr>\n",
       "    <tr>\n",
       "      <th>2</th>\n",
       "      <td>2</td>\n",
       "      <td>14</td>\n",
       "      <td>TOLLEFSON Tim</td>\n",
       "      <td>Hoka</td>\n",
       "      <td>SE H</td>\n",
       "      <td>3</td>\n",
       "      <td>US</td>\n",
       "      <td>19:53:00</td>\n",
       "      <td>00:51:06</td>\n",
       "      <td>01:15:24</td>\n",
       "      <td>...</td>\n",
       "      <td>NaN</td>\n",
       "      <td>NaN</td>\n",
       "      <td>NaN</td>\n",
       "      <td>NaN</td>\n",
       "      <td>NaN</td>\n",
       "      <td>NaN</td>\n",
       "      <td>NaN</td>\n",
       "      <td>NaN</td>\n",
       "      <td>NaN</td>\n",
       "      <td>19.883333</td>\n",
       "    </tr>\n",
       "    <tr>\n",
       "      <th>3</th>\n",
       "      <td>3</td>\n",
       "      <td>7</td>\n",
       "      <td>THEVENARD Xavier</td>\n",
       "      <td>Asics</td>\n",
       "      <td>SE H</td>\n",
       "      <td>4</td>\n",
       "      <td>FR</td>\n",
       "      <td>20:03:39</td>\n",
       "      <td>01:01:45</td>\n",
       "      <td>01:11:51</td>\n",
       "      <td>...</td>\n",
       "      <td>NaN</td>\n",
       "      <td>NaN</td>\n",
       "      <td>NaN</td>\n",
       "      <td>NaN</td>\n",
       "      <td>NaN</td>\n",
       "      <td>NaN</td>\n",
       "      <td>NaN</td>\n",
       "      <td>NaN</td>\n",
       "      <td>NaN</td>\n",
       "      <td>20.060833</td>\n",
       "    </tr>\n",
       "    <tr>\n",
       "      <th>4</th>\n",
       "      <td>4</td>\n",
       "      <td>1</td>\n",
       "      <td>WALMSLEY Jim</td>\n",
       "      <td>Hoka</td>\n",
       "      <td>SE H</td>\n",
       "      <td>5</td>\n",
       "      <td>US</td>\n",
       "      <td>20:11:38</td>\n",
       "      <td>01:09:44</td>\n",
       "      <td>01:09:59</td>\n",
       "      <td>...</td>\n",
       "      <td>NaN</td>\n",
       "      <td>NaN</td>\n",
       "      <td>NaN</td>\n",
       "      <td>NaN</td>\n",
       "      <td>NaN</td>\n",
       "      <td>NaN</td>\n",
       "      <td>NaN</td>\n",
       "      <td>NaN</td>\n",
       "      <td>NaN</td>\n",
       "      <td>20.193889</td>\n",
       "    </tr>\n",
       "  </tbody>\n",
       "</table>\n",
       "<p>5 rows × 70 columns</p>\n",
       "</div>"
      ],
      "text/plain": [
       "   Unnamed: 0  bib                   name     team category  rank nationality  \\\n",
       "0           0    4       D'HAENE François  Salomon     SE H     1          FR   \n",
       "1           1    2  JORNET BURGADA Kilian  Salomon     SE H     2          ES   \n",
       "2           2   14          TOLLEFSON Tim     Hoka     SE H     3          US   \n",
       "3           3    7       THEVENARD Xavier    Asics     SE H     4          FR   \n",
       "4           4    1           WALMSLEY Jim     Hoka     SE H     5          US   \n",
       "\n",
       "       time  timediff  Delevret  ... Bovine Arrivé Delevre st Ger M Favre  \\\n",
       "0  19:01:54  00:00:00  01:11:50  ...    NaN    NaN     NaN    NaN     NaN   \n",
       "1  19:16:59  00:15:05  01:10:00  ...    NaN    NaN     NaN    NaN     NaN   \n",
       "2  19:53:00  00:51:06  01:15:24  ...    NaN    NaN     NaN    NaN     NaN   \n",
       "3  20:03:39  01:01:45  01:11:51  ...    NaN    NaN     NaN    NaN     NaN   \n",
       "4  20:11:38  01:09:44  01:09:59  ...    NaN    NaN     NaN    NaN     NaN   \n",
       "\n",
       "  Ferret Martign Argent Cham time_hours  \n",
       "0    NaN     NaN    NaN  NaN  19.031667  \n",
       "1    NaN     NaN    NaN  NaN  19.283056  \n",
       "2    NaN     NaN    NaN  NaN  19.883333  \n",
       "3    NaN     NaN    NaN  NaN  20.060833  \n",
       "4    NaN     NaN    NaN  NaN  20.193889  \n",
       "\n",
       "[5 rows x 70 columns]"
      ]
     },
     "execution_count": 11,
     "metadata": {},
     "output_type": "execute_result"
    }
   ],
   "source": [
    "utmb_df.head()"
   ]
  },
  {
   "cell_type": "code",
   "execution_count": 12,
   "metadata": {},
   "outputs": [],
   "source": [
    "# Parse out men and women category column\n",
    "utmb_df['M/F'] = utmb_df.category.str.contains('H').map({True:'M',False:'F'})"
   ]
  },
  {
   "cell_type": "code",
   "execution_count": 13,
   "metadata": {},
   "outputs": [
    {
     "data": {
      "text/html": [
       "<div>\n",
       "<style scoped>\n",
       "    .dataframe tbody tr th:only-of-type {\n",
       "        vertical-align: middle;\n",
       "    }\n",
       "\n",
       "    .dataframe tbody tr th {\n",
       "        vertical-align: top;\n",
       "    }\n",
       "\n",
       "    .dataframe thead th {\n",
       "        text-align: right;\n",
       "    }\n",
       "</style>\n",
       "<table border=\"1\" class=\"dataframe\">\n",
       "  <thead>\n",
       "    <tr style=\"text-align: right;\">\n",
       "      <th></th>\n",
       "      <th>Unnamed: 0</th>\n",
       "      <th>bib</th>\n",
       "      <th>name</th>\n",
       "      <th>team</th>\n",
       "      <th>category</th>\n",
       "      <th>rank</th>\n",
       "      <th>nationality</th>\n",
       "      <th>time</th>\n",
       "      <th>timediff</th>\n",
       "      <th>Delevret</th>\n",
       "      <th>...</th>\n",
       "      <th>Arrivé</th>\n",
       "      <th>Delevre</th>\n",
       "      <th>st Ger</th>\n",
       "      <th>M Favre</th>\n",
       "      <th>Ferret</th>\n",
       "      <th>Martign</th>\n",
       "      <th>Argent</th>\n",
       "      <th>Cham</th>\n",
       "      <th>time_hours</th>\n",
       "      <th>M/F</th>\n",
       "    </tr>\n",
       "  </thead>\n",
       "  <tbody>\n",
       "    <tr>\n",
       "      <th>1687</th>\n",
       "      <td>1687</td>\n",
       "      <td>2110</td>\n",
       "      <td>DENONCIN Thierry</td>\n",
       "      <td></td>\n",
       "      <td>V2 H</td>\n",
       "      <td>1688</td>\n",
       "      <td></td>\n",
       "      <td></td>\n",
       "      <td></td>\n",
       "      <td>01:57:20</td>\n",
       "      <td>...</td>\n",
       "      <td>NaN</td>\n",
       "      <td>NaN</td>\n",
       "      <td>NaN</td>\n",
       "      <td>NaN</td>\n",
       "      <td>NaN</td>\n",
       "      <td>NaN</td>\n",
       "      <td>NaN</td>\n",
       "      <td>NaN</td>\n",
       "      <td>0.0</td>\n",
       "      <td>M</td>\n",
       "    </tr>\n",
       "    <tr>\n",
       "      <th>1688</th>\n",
       "      <td>1688</td>\n",
       "      <td>2721</td>\n",
       "      <td>FUNG Sze Ming</td>\n",
       "      <td></td>\n",
       "      <td>V1 H</td>\n",
       "      <td>1689</td>\n",
       "      <td></td>\n",
       "      <td></td>\n",
       "      <td></td>\n",
       "      <td>01:50:26</td>\n",
       "      <td>...</td>\n",
       "      <td>NaN</td>\n",
       "      <td>NaN</td>\n",
       "      <td>NaN</td>\n",
       "      <td>NaN</td>\n",
       "      <td>NaN</td>\n",
       "      <td>NaN</td>\n",
       "      <td>NaN</td>\n",
       "      <td>NaN</td>\n",
       "      <td>0.0</td>\n",
       "      <td>M</td>\n",
       "    </tr>\n",
       "    <tr>\n",
       "      <th>1689</th>\n",
       "      <td>1689</td>\n",
       "      <td>105</td>\n",
       "      <td>MENDIZABAL Adur</td>\n",
       "      <td></td>\n",
       "      <td>SE H</td>\n",
       "      <td>1690</td>\n",
       "      <td></td>\n",
       "      <td></td>\n",
       "      <td></td>\n",
       "      <td>01:33:37</td>\n",
       "      <td>...</td>\n",
       "      <td>NaN</td>\n",
       "      <td>NaN</td>\n",
       "      <td>NaN</td>\n",
       "      <td>NaN</td>\n",
       "      <td>NaN</td>\n",
       "      <td>NaN</td>\n",
       "      <td>NaN</td>\n",
       "      <td>NaN</td>\n",
       "      <td>0.0</td>\n",
       "      <td>M</td>\n",
       "    </tr>\n",
       "    <tr>\n",
       "      <th>1690</th>\n",
       "      <td>1690</td>\n",
       "      <td>616</td>\n",
       "      <td>THEODIN Yann</td>\n",
       "      <td></td>\n",
       "      <td>V1 H</td>\n",
       "      <td>1691</td>\n",
       "      <td></td>\n",
       "      <td></td>\n",
       "      <td></td>\n",
       "      <td>01:31:18</td>\n",
       "      <td>...</td>\n",
       "      <td>NaN</td>\n",
       "      <td>NaN</td>\n",
       "      <td>NaN</td>\n",
       "      <td>NaN</td>\n",
       "      <td>NaN</td>\n",
       "      <td>NaN</td>\n",
       "      <td>NaN</td>\n",
       "      <td>NaN</td>\n",
       "      <td>0.0</td>\n",
       "      <td>M</td>\n",
       "    </tr>\n",
       "    <tr>\n",
       "      <th>1691</th>\n",
       "      <td>1691</td>\n",
       "      <td>1568</td>\n",
       "      <td>CHAVEZ Anthony</td>\n",
       "      <td></td>\n",
       "      <td>V1 H</td>\n",
       "      <td>1692</td>\n",
       "      <td></td>\n",
       "      <td></td>\n",
       "      <td></td>\n",
       "      <td>01:42:33</td>\n",
       "      <td>...</td>\n",
       "      <td>NaN</td>\n",
       "      <td>NaN</td>\n",
       "      <td>NaN</td>\n",
       "      <td>NaN</td>\n",
       "      <td>NaN</td>\n",
       "      <td>NaN</td>\n",
       "      <td>NaN</td>\n",
       "      <td>NaN</td>\n",
       "      <td>0.0</td>\n",
       "      <td>M</td>\n",
       "    </tr>\n",
       "    <tr>\n",
       "      <th>...</th>\n",
       "      <td>...</td>\n",
       "      <td>...</td>\n",
       "      <td>...</td>\n",
       "      <td>...</td>\n",
       "      <td>...</td>\n",
       "      <td>...</td>\n",
       "      <td>...</td>\n",
       "      <td>...</td>\n",
       "      <td>...</td>\n",
       "      <td>...</td>\n",
       "      <td>...</td>\n",
       "      <td>...</td>\n",
       "      <td>...</td>\n",
       "      <td>...</td>\n",
       "      <td>...</td>\n",
       "      <td>...</td>\n",
       "      <td>...</td>\n",
       "      <td>...</td>\n",
       "      <td>...</td>\n",
       "      <td>...</td>\n",
       "      <td>...</td>\n",
       "    </tr>\n",
       "    <tr>\n",
       "      <th>2363</th>\n",
       "      <td>2363</td>\n",
       "      <td>2093</td>\n",
       "      <td>BRETON Laurent</td>\n",
       "      <td></td>\n",
       "      <td>V2 H</td>\n",
       "      <td>2361</td>\n",
       "      <td></td>\n",
       "      <td></td>\n",
       "      <td></td>\n",
       "      <td>NaN</td>\n",
       "      <td>...</td>\n",
       "      <td>NaN</td>\n",
       "      <td>NaN</td>\n",
       "      <td>NaN</td>\n",
       "      <td>NaN</td>\n",
       "      <td>NaN</td>\n",
       "      <td>NaN</td>\n",
       "      <td>NaN</td>\n",
       "      <td>NaN</td>\n",
       "      <td>0.0</td>\n",
       "      <td>M</td>\n",
       "    </tr>\n",
       "    <tr>\n",
       "      <th>2364</th>\n",
       "      <td>2364</td>\n",
       "      <td>2867</td>\n",
       "      <td>SCHMIED Josef</td>\n",
       "      <td></td>\n",
       "      <td>V2 H</td>\n",
       "      <td>2361</td>\n",
       "      <td></td>\n",
       "      <td></td>\n",
       "      <td></td>\n",
       "      <td>NaN</td>\n",
       "      <td>...</td>\n",
       "      <td>NaN</td>\n",
       "      <td>NaN</td>\n",
       "      <td>NaN</td>\n",
       "      <td>NaN</td>\n",
       "      <td>NaN</td>\n",
       "      <td>NaN</td>\n",
       "      <td>NaN</td>\n",
       "      <td>NaN</td>\n",
       "      <td>0.0</td>\n",
       "      <td>M</td>\n",
       "    </tr>\n",
       "    <tr>\n",
       "      <th>2365</th>\n",
       "      <td>2365</td>\n",
       "      <td>3114</td>\n",
       "      <td>GASSET Olga</td>\n",
       "      <td></td>\n",
       "      <td>V1 F</td>\n",
       "      <td>2361</td>\n",
       "      <td></td>\n",
       "      <td></td>\n",
       "      <td></td>\n",
       "      <td>NaN</td>\n",
       "      <td>...</td>\n",
       "      <td>NaN</td>\n",
       "      <td>NaN</td>\n",
       "      <td>NaN</td>\n",
       "      <td>NaN</td>\n",
       "      <td>NaN</td>\n",
       "      <td>NaN</td>\n",
       "      <td>NaN</td>\n",
       "      <td>NaN</td>\n",
       "      <td>0.0</td>\n",
       "      <td>F</td>\n",
       "    </tr>\n",
       "    <tr>\n",
       "      <th>2366</th>\n",
       "      <td>2366</td>\n",
       "      <td>3122</td>\n",
       "      <td>HERTEL Sebastian</td>\n",
       "      <td></td>\n",
       "      <td>SE H</td>\n",
       "      <td>2361</td>\n",
       "      <td></td>\n",
       "      <td></td>\n",
       "      <td></td>\n",
       "      <td>NaN</td>\n",
       "      <td>...</td>\n",
       "      <td>NaN</td>\n",
       "      <td>NaN</td>\n",
       "      <td>NaN</td>\n",
       "      <td>NaN</td>\n",
       "      <td>NaN</td>\n",
       "      <td>NaN</td>\n",
       "      <td>NaN</td>\n",
       "      <td>NaN</td>\n",
       "      <td>0.0</td>\n",
       "      <td>M</td>\n",
       "    </tr>\n",
       "    <tr>\n",
       "      <th>2367</th>\n",
       "      <td>2367</td>\n",
       "      <td>3619</td>\n",
       "      <td>TECHER Thierry</td>\n",
       "      <td></td>\n",
       "      <td>V1 H</td>\n",
       "      <td>2361</td>\n",
       "      <td></td>\n",
       "      <td></td>\n",
       "      <td></td>\n",
       "      <td>NaN</td>\n",
       "      <td>...</td>\n",
       "      <td>NaN</td>\n",
       "      <td>NaN</td>\n",
       "      <td>NaN</td>\n",
       "      <td>NaN</td>\n",
       "      <td>NaN</td>\n",
       "      <td>NaN</td>\n",
       "      <td>NaN</td>\n",
       "      <td>NaN</td>\n",
       "      <td>0.0</td>\n",
       "      <td>M</td>\n",
       "    </tr>\n",
       "  </tbody>\n",
       "</table>\n",
       "<p>5730 rows × 71 columns</p>\n",
       "</div>"
      ],
      "text/plain": [
       "      Unnamed: 0   bib              name team category  rank nationality time  \\\n",
       "1687        1687  2110  DENONCIN Thierry          V2 H  1688                    \n",
       "1688        1688  2721     FUNG Sze Ming          V1 H  1689                    \n",
       "1689        1689   105   MENDIZABAL Adur          SE H  1690                    \n",
       "1690        1690   616      THEODIN Yann          V1 H  1691                    \n",
       "1691        1691  1568    CHAVEZ Anthony          V1 H  1692                    \n",
       "...          ...   ...               ...  ...      ...   ...         ...  ...   \n",
       "2363        2363  2093    BRETON Laurent          V2 H  2361                    \n",
       "2364        2364  2867     SCHMIED Josef          V2 H  2361                    \n",
       "2365        2365  3114       GASSET Olga          V1 F  2361                    \n",
       "2366        2366  3122  HERTEL Sebastian          SE H  2361                    \n",
       "2367        2367  3619    TECHER Thierry          V1 H  2361                    \n",
       "\n",
       "     timediff  Delevret  ... Arrivé Delevre st Ger M Favre Ferret Martign  \\\n",
       "1687           01:57:20  ...    NaN     NaN    NaN     NaN    NaN     NaN   \n",
       "1688           01:50:26  ...    NaN     NaN    NaN     NaN    NaN     NaN   \n",
       "1689           01:33:37  ...    NaN     NaN    NaN     NaN    NaN     NaN   \n",
       "1690           01:31:18  ...    NaN     NaN    NaN     NaN    NaN     NaN   \n",
       "1691           01:42:33  ...    NaN     NaN    NaN     NaN    NaN     NaN   \n",
       "...       ...       ...  ...    ...     ...    ...     ...    ...     ...   \n",
       "2363                NaN  ...    NaN     NaN    NaN     NaN    NaN     NaN   \n",
       "2364                NaN  ...    NaN     NaN    NaN     NaN    NaN     NaN   \n",
       "2365                NaN  ...    NaN     NaN    NaN     NaN    NaN     NaN   \n",
       "2366                NaN  ...    NaN     NaN    NaN     NaN    NaN     NaN   \n",
       "2367                NaN  ...    NaN     NaN    NaN     NaN    NaN     NaN   \n",
       "\n",
       "     Argent Cham time_hours M/F  \n",
       "1687    NaN  NaN        0.0   M  \n",
       "1688    NaN  NaN        0.0   M  \n",
       "1689    NaN  NaN        0.0   M  \n",
       "1690    NaN  NaN        0.0   M  \n",
       "1691    NaN  NaN        0.0   M  \n",
       "...     ...  ...        ...  ..  \n",
       "2363    NaN  NaN        0.0   M  \n",
       "2364    NaN  NaN        0.0   M  \n",
       "2365    NaN  NaN        0.0   F  \n",
       "2366    NaN  NaN        0.0   M  \n",
       "2367    NaN  NaN        0.0   M  \n",
       "\n",
       "[5730 rows x 71 columns]"
      ]
     },
     "execution_count": 13,
     "metadata": {},
     "output_type": "execute_result"
    }
   ],
   "source": [
    "utmb_df.loc[utmb_df.time == ' ']"
   ]
  },
  {
   "cell_type": "markdown",
   "metadata": {},
   "source": [
    "There are some results don't have finish times. These are not usefull so we will drop them from the DataFrame"
   ]
  },
  {
   "cell_type": "code",
   "execution_count": 14,
   "metadata": {},
   "outputs": [],
   "source": [
    "utmb_df_drop_dnf = utmb_df.loc[utmb_df.time != ' ']"
   ]
  },
  {
   "cell_type": "code",
   "execution_count": 15,
   "metadata": {},
   "outputs": [],
   "source": [
    "# Split the data into two sets, men and women \n",
    "utmb_men = utmb_df_drop_dnf.loc[utmb_df_drop_dnf['M/F'] == 'M']\n",
    "utmb_women = utmb_df_drop_dnf.loc[utmb_df_drop_dnf['M/F'] == 'F']\n",
    "\n",
    "ba_men = ba_df.loc[ba_df['M/F'] == 'M']\n",
    "ba_women = ba_df.loc[ba_df['M/F'] == 'F']"
   ]
  },
  {
   "cell_type": "markdown",
   "metadata": {},
   "source": [
    "## Boston marathon analysis"
   ]
  },
  {
   "cell_type": "code",
   "execution_count": 16,
   "metadata": {},
   "outputs": [
    {
     "data": {
      "image/png": "[encoded data removed]",
      "text/plain": [
       "<Figure size 432x288 with 1 Axes>"
      ]
     },
     "metadata": {
      "needs_background": "light"
     },
     "output_type": "display_data"
    },
    {
     "name": "stdout",
     "output_type": "stream",
     "text": [
      "DescribeResult(nobs=43482, minmax=(2.1547222222222224, 8.419166666666667), mean=3.729697684610235, variance=0.48931754206268846, skewness=0.9809260265067807, kurtosis=0.9162919467823727)\n"
     ]
    }
   ],
   "source": [
    "# Check the distribution of the data \n",
    "plt.hist(ba_men.time_hours)\n",
    "plt.show()\n",
    "print(stats.describe(ba_men.time_hours))"
   ]
  },
  {
   "cell_type": "code",
   "execution_count": 17,
   "metadata": {},
   "outputs": [
    {
     "data": {
      "image/png": "[encoded data removed]",
      "text/plain": [
       "<Figure size 432x288 with 1 Axes>"
      ]
     },
     "metadata": {
      "needs_background": "light"
     },
     "output_type": "display_data"
    },
    {
     "name": "stdout",
     "output_type": "stream",
     "text": [
      "NormaltestResult(statistic=4974.4083251629345, pvalue=0.0)\n"
     ]
    },
    {
     "data": {
      "text/plain": [
       "DescribeResult(nobs=36156, minmax=(2.3644444444444446, 10.506388888888889), mean=4.074173996017258, variance=0.40242176982937844, skewness=0.9882176000390608, kurtosis=1.0732261595163308)"
      ]
     },
     "execution_count": 17,
     "metadata": {},
     "output_type": "execute_result"
    }
   ],
   "source": [
    "plt.hist(ba_women.time_hours)\n",
    "plt.show()\n",
    "print(stats.normaltest(ba_women.time_hours))\n",
    "stats.describe(ba_women.time_hours)"
   ]
  },
  {
   "cell_type": "markdown",
   "metadata": {},
   "source": [
    "The distribution of the data show a fair amount of skewness and kurtosis but it should still be possible to use a t-test. \n",
    "\n",
    "Stated formally the hypothesis is \n",
    "\n",
    "Null hypothesis: On average, the time it takes for male and female participants to complete the event is the same.   \n",
    "Alternate hypothesis: there is a significant difference in the average time it takes male and female participants to complete the event.  \n",
    "\n",
    "Based on the summary statistics I expect to see a significant difference here."
   ]
  },
  {
   "cell_type": "code",
   "execution_count": 18,
   "metadata": {},
   "outputs": [
    {
     "data": {
      "text/plain": [
       "Ttest_indResult(statistic=72.16095428443812, pvalue=0.0)"
      ]
     },
     "execution_count": 18,
     "metadata": {},
     "output_type": "execute_result"
    }
   ],
   "source": [
    "stats.ttest_ind(ba_women.time_hours, ba_men.time_hours)"
   ]
  },
  {
   "cell_type": "markdown",
   "metadata": {},
   "source": [
    "The results if the t-test show a do show a significant differnece in the finish times between men and woment for the boston marathon data"
   ]
  },
  {
   "cell_type": "code",
   "execution_count": 19,
   "metadata": {},
   "outputs": [
    {
     "name": "stdout",
     "output_type": "stream",
     "text": [
      "0.3444763114070053\n"
     ]
    },
    {
     "data": {
      "image/png": "[encoded data removed]",
      "text/plain": [
       "<Figure size 720x360 with 1 Axes>"
      ]
     },
     "metadata": {
      "needs_background": "light"
     },
     "output_type": "display_data"
    }
   ],
   "source": [
    "plt.figure(figsize=[10,5])\n",
    "sns.pointplot(x='M/F', y='time_hours', data=ba_df, join=False)\n",
    "print(ba_women.time_hours.mean() - ba_men.time_hours.mean())"
   ]
  },
  {
   "cell_type": "markdown",
   "metadata": {},
   "source": [
    "Based on the above point plot, the men are about 1/3 of an hour faster than the women at the marathon distance."
   ]
  },
  {
   "cell_type": "markdown",
   "metadata": {},
   "source": [
    "## UTMB analysis"
   ]
  },
  {
   "cell_type": "code",
   "execution_count": 20,
   "metadata": {},
   "outputs": [
    {
     "name": "stdout",
     "output_type": "stream",
     "text": [
      "DescribeResult(nobs=8451, minmax=(19.031666666666666, 47.143055555555556), mean=39.728538897434895, variance=26.959901397160557, skewness=-1.0818087694536964, kurtosis=0.7516660149194432)\n",
      "NormaltestResult(statistic=1234.9992759381144, pvalue=6.657553311044291e-269)\n"
     ]
    },
    {
     "data": {
      "image/png": "[encoded data removed]",
      "text/plain": [
       "<Figure size 432x288 with 1 Axes>"
      ]
     },
     "metadata": {
      "needs_background": "light"
     },
     "output_type": "display_data"
    }
   ],
   "source": [
    "# Plot the distribution of the men's group\n",
    "plt.hist(utmb_men.time_hours)\n",
    "print(stats.describe((utmb_men.time_hours)))\n",
    "print(stats.normaltest(utmb_men.time_hours))\n",
    "plt.show()"
   ]
  },
  {
   "cell_type": "code",
   "execution_count": 21,
   "metadata": {},
   "outputs": [
    {
     "name": "stdout",
     "output_type": "stream",
     "text": [
      "DescribeResult(nobs=736, minmax=(22.62388888888889, 46.71111111111111), mean=40.482157306763284, variance=28.2602051024402, skewness=-1.1545151486223302, kurtosis=0.5054481398984412)\n",
      "NormaltestResult(statistic=116.40592761601597, pvalue=5.281703138615134e-26)\n"
     ]
    },
    {
     "data": {
      "image/png": "[encoded data removed]",
      "text/plain": [
       "<Figure size 432x288 with 1 Axes>"
      ]
     },
     "metadata": {
      "needs_background": "light"
     },
     "output_type": "display_data"
    }
   ],
   "source": [
    "plt.hist(utmb_women.time_hours)\n",
    "print(stats.describe(utmb_women.time_hours))\n",
    "print(stats.normaltest(utmb_women.time_hours))\n",
    "plt.show()"
   ]
  },
  {
   "cell_type": "markdown",
   "metadata": {},
   "source": [
    "Based on the distributions in the histogram above it looks like the UTMB data is not normally distributed.  \n",
    "I will test the same hypothisis as before but this time I will use the Mann-Whitney U-test"
   ]
  },
  {
   "cell_type": "code",
   "execution_count": 22,
   "metadata": {},
   "outputs": [
    {
     "data": {
      "text/plain": [
       "MannwhitneyuResult(statistic=2733954.5, pvalue=2.5374778854792003e-08)"
      ]
     },
     "execution_count": 22,
     "metadata": {},
     "output_type": "execute_result"
    }
   ],
   "source": [
    "stats.mannwhitneyu(utmb_women.time_hours, utmb_men.time_hours)"
   ]
  },
  {
   "cell_type": "markdown",
   "metadata": {},
   "source": [
    "The test results still show a that there is also a significant differance in the medians between men and women at the longer distance. Lets look at the point plot to see how it compares to the Boston marathon results."
   ]
  },
  {
   "cell_type": "code",
   "execution_count": 23,
   "metadata": {},
   "outputs": [
    {
     "data": {
      "text/plain": [
       "<matplotlib.axes._subplots.AxesSubplot at 0x7facbf9129a0>"
      ]
     },
     "execution_count": 23,
     "metadata": {},
     "output_type": "execute_result"
    },
    {
     "data": {
      "image/png": "[encoded data removed]",
      "text/plain": [
       "<Figure size 720x360 with 1 Axes>"
      ]
     },
     "metadata": {
      "needs_background": "light"
     },
     "output_type": "display_data"
    }
   ],
   "source": [
    "plt.figure(figsize=[10,5])\n",
    "sns.pointplot(x='M/F', y='time_hours', data=utmb_df_drop_dnf, join=False)"
   ]
  },
  {
   "cell_type": "markdown",
   "metadata": {},
   "source": [
    "From the point plot it looks like a difference of about 1 hour between the two groups. The UTMB is 4 times the distance of the boston marathon but difference in finish times is only went up by about 3x. It appears the gap is getting closer at the longer distance.\n",
    "\n",
    "For next steps, there are events that are longer than 100 miles. I would be interested in seeing if for events in the 200+ mile distance the gap contiues to close."
   ]
  },
  {
   "cell_type": "code",
   "execution_count": null,
   "metadata": {},
   "outputs": [],
   "source": []
  }
 ],
 "metadata": {
  "kernelspec": {
   "display_name": "Python 3",
   "language": "python",
   "name": "python3"
  },
  "language_info": {
   "codemirror_mode": {
    "name": "ipython",
    "version": 3
   },
   "file_extension": ".py",
   "mimetype": "text/x-python",
   "name": "python",
   "nbconvert_exporter": "python",
   "pygments_lexer": "ipython3",
   "version": "3.8.3"
  }
 },
 "nbformat": 4,
 "nbformat_minor": 4
}
